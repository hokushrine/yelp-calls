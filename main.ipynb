{
 "cells": [
  {
   "cell_type": "markdown",
   "metadata": {},
   "source": [
    "# Imports"
   ]
  },
  {
   "cell_type": "code",
   "execution_count": 1,
   "metadata": {},
   "outputs": [],
   "source": [
    "# Standard Imports\n",
    "import numpy as np\n",
    "import pandas as pd\n",
    "import matplotlib.pyplot as plt\n",
    "import seaborn as sns\n",
    "# Additional Imports\n",
    "import os, json, math, time\n",
    "from yelpapi import YelpAPI\n",
    "from tqdm.notebook import tqdm_notebook\n",
    "\n"
   ]
  },
  {
   "cell_type": "markdown",
   "metadata": {},
   "source": [
    "# Functions"
   ]
  },
  {
   "cell_type": "markdown",
   "metadata": {},
   "source": [
    "# Create Credentials and API Object"
   ]
  },
  {
   "cell_type": "code",
   "execution_count": 2,
   "metadata": {},
   "outputs": [],
   "source": [
    "# Load API Credentials\n",
    "with open('/Users/Foreground/.secret/yelp_api.json') as f:   #use your path here!\n",
    "    login = json.load(f)\n",
    "# Instantiate YelpAPI Variable\n",
    "yelp_api = YelpAPI(login['api-key'], timeout_s=5.0)\n",
    "\n"
   ]
  },
  {
   "cell_type": "markdown",
   "metadata": {},
   "source": [
    "## Set search terms and file paths"
   ]
  },
  {
   "cell_type": "code",
   "execution_count": 3,
   "metadata": {},
   "outputs": [],
   "source": [
    "# set our API call parameters \n",
    "LOCATION = 'Seattle, WA'\n",
    "TERM = 'Pizza'\n"
   ]
  },
  {
   "cell_type": "code",
   "execution_count": 4,
   "metadata": {},
   "outputs": [
    {
     "data": {
      "text/plain": [
       "'Data/results_in_progress_WA_pizza.json'"
      ]
     },
     "execution_count": 4,
     "metadata": {},
     "output_type": "execute_result"
    }
   ],
   "source": [
    "# Specifying JSON_FILE filename (can include a folder)\n",
    "# include the search terms in the filename\n",
    "JSON_FILE = \"Data/results_in_progress_WA_pizza.json\"\n",
    "JSON_FILE\n",
    "\n"
   ]
  },
  {
   "cell_type": "code",
   "execution_count": 5,
   "metadata": {},
   "outputs": [
    {
     "name": "stdout",
     "output_type": "stream",
     "text": [
      "[i] Data/results_in_progress_WA_pizza.json not found. Saving empty list to file.\n"
     ]
    }
   ],
   "source": [
    "## Check if JSON_FILE exists\n",
    "file_exists = os.path.isfile(JSON_FILE)\n",
    "## If it does not exist: \n",
    "if file_exists == False:\n",
    "    \n",
    "    ## CREATE ANY NEEDED FOLDERS\n",
    "    # Get the Folder Name only\n",
    "    folder = os.path.dirname(JSON_FILE)\n",
    "    ## If JSON_FILE included a folder:\n",
    "    if len(folder)>0:\n",
    "        # create the folder\n",
    "        os.makedirs(folder,exist_ok=True)\n",
    "        \n",
    "        \n",
    "    ## INFORM USER AND SAVE EMPTY LIST\n",
    "    print(f'[i] {JSON_FILE} not found. Saving empty list to file.')\n",
    "    \n",
    "    \n",
    "    # save an empty list\n",
    "    with open(JSON_FILE,'w') as f:\n",
    "        json.dump([],f)  \n",
    "# If it exists, inform user\n",
    "else:\n",
    "    print(f\"[i] {JSON_FILE} already exists.\")\n"
   ]
  },
  {
   "cell_type": "code",
   "execution_count": 6,
   "metadata": {},
   "outputs": [
    {
     "name": "stdout",
     "output_type": "stream",
     "text": [
      "- 0 previous results found.\n"
     ]
    }
   ],
   "source": [
    "## Load previous results and use len of results for offset\n",
    "with open(JSON_FILE,'r') as f:\n",
    "    previous_results = json.load(f)\n",
    "    \n",
    "## set offset based on previous results\n",
    "n_results = len(previous_results)\n",
    "print(f'- {n_results} previous results found.')\n",
    "\n"
   ]
  },
  {
   "cell_type": "markdown",
   "metadata": {},
   "source": [
    "# Functions"
   ]
  },
  {
   "cell_type": "code",
   "execution_count": 7,
   "metadata": {},
   "outputs": [],
   "source": [
    "def create_json_file(JSON_FILE,  delete_if_exists=False):\n",
    "    \n",
    "    ## Check if JSON_FILE exists\n",
    "    file_exists = os.path.isfile(JSON_FILE)\n",
    "    \n",
    "    ## If it DOES exist:\n",
    "    if file_exists == True:\n",
    "        \n",
    "        ## Check if user wants to delete if exists\n",
    "        if delete_if_exists==True:\n",
    "            \n",
    "            print(f\"[!] {JSON_FILE} already exists. Deleting previous file...\")\n",
    "            ## delete file and confirm it no longer exits.\n",
    "            os.remove(JSON_FILE)\n",
    "            ## Recursive call to function after old file deleted\n",
    "            create_json_file(JSON_FILE,delete_if_exists=False)\n",
    "        else:\n",
    "            print(f\"[i] {JSON_FILE} already exists.\")            \n",
    "            \n",
    "            \n",
    "    ## If it does NOT exist:\n",
    "    else:\n",
    "        \n",
    "        ## INFORM USER AND SAVE EMPTY LIST\n",
    "        print(f\"[i] {JSON_FILE} not found. Saving empty list to new file.\")\n",
    "        \n",
    "        ## CREATE ANY NEEDED FOLDERS\n",
    "        # Get the Folder Name only\n",
    "        folder = os.path.dirname(JSON_FILE)\n",
    "        \n",
    "        ## If JSON_FILE included a folder:\n",
    "        if len(folder)>0:\n",
    "            # create the folder\n",
    "            os.makedirs(folder,exist_ok=True)\n",
    "        ## Save empty list to start the json file\n",
    "        with open(JSON_FILE,'w') as f:\n",
    "            json.dump([],f)  \n",
    "\n"
   ]
  },
  {
   "cell_type": "markdown",
   "metadata": {},
   "source": [
    "# Making the first call to get the first page of data"
   ]
  },
  {
   "cell_type": "code",
   "execution_count": 8,
   "metadata": {},
   "outputs": [
    {
     "data": {
      "text/plain": [
       "dict_keys(['businesses', 'total', 'region'])"
      ]
     },
     "execution_count": 8,
     "metadata": {},
     "output_type": "execute_result"
    }
   ],
   "source": [
    "# use our yelp_api variable's search_query method to perform our API call\n",
    "results = yelp_api.search_query(location=LOCATION,\n",
    "                                term=TERM,\n",
    "                               offset=n_results)\n",
    "results.keys()\n",
    "\n"
   ]
  },
  {
   "cell_type": "code",
   "execution_count": 9,
   "metadata": {},
   "outputs": [
    {
     "data": {
      "text/plain": [
       "2100"
      ]
     },
     "execution_count": 9,
     "metadata": {},
     "output_type": "execute_result"
    }
   ],
   "source": [
    "## How many results total?\n",
    "total_results = results['total']\n",
    "total_results\n",
    "\n"
   ]
  },
  {
   "cell_type": "code",
   "execution_count": 10,
   "metadata": {},
   "outputs": [
    {
     "data": {
      "text/plain": [
       "20"
      ]
     },
     "execution_count": 10,
     "metadata": {},
     "output_type": "execute_result"
    }
   ],
   "source": [
    "## How many did we get the details for?\n",
    "results_per_page = len(results['businesses'])\n",
    "results_per_page\n",
    "\n"
   ]
  },
  {
   "cell_type": "code",
   "execution_count": 11,
   "metadata": {},
   "outputs": [
    {
     "data": {
      "text/plain": [
       "105"
      ]
     },
     "execution_count": 11,
     "metadata": {},
     "output_type": "execute_result"
    }
   ],
   "source": [
    "# Import additional packages for controlling our loop\n",
    "import time, math\n",
    "# Use math.ceil to round up for the total number of pages of results.\n",
    "n_pages = math.ceil((results['total']-n_results)/ results_per_page)\n",
    "n_pages\n",
    "\n"
   ]
  },
  {
   "cell_type": "code",
   "execution_count": 12,
   "metadata": {},
   "outputs": [],
   "source": [
    "# join new results with old list with extend and save to file\n",
    "previous_results.extend(results['businesses'])  \n",
    "with open(JSON_FILE,'w') as f:\n",
    "     json.dump(previous_results,f)\n"
   ]
  },
  {
   "cell_type": "code",
   "execution_count": 13,
   "metadata": {},
   "outputs": [
    {
     "name": "stdout",
     "output_type": "stream",
     "text": [
      "- 0 previous results found.\n"
     ]
    },
    {
     "data": {
      "text/plain": [
       "105"
      ]
     },
     "execution_count": 13,
     "metadata": {},
     "output_type": "execute_result"
    }
   ],
   "source": [
    "# ## Create a new empty json file (exist the previous if it exists)\n",
    "# create_json_file(JSON_FILE, delete_if_exists=True)\n",
    "# ## Load previous results and use len of results for offset\n",
    "# with open(JSON_FILE,'r') as f:\n",
    "#     previous_results = json.load(f)\n",
    "    \n",
    "# ## set offset based on previous results\n",
    "# n_results = len(previous_results)\n",
    "print(f'- {n_results} previous results found.')\n",
    "# use our yelp_api variable's search_query method to perform our API call\n",
    "results = yelp_api.search_query(location=LOCATION,\n",
    "                                term=TERM,\n",
    "                               offset=n_results)\n",
    "## How many results total?\n",
    "total_results = results['total']\n",
    "## How many did we get the details for?\n",
    "results_per_page = len(results['businesses'])\n",
    "# Use math.ceil to round up for the total number of pages of results.\n",
    "n_pages = math.ceil((results['total']-n_results)/ results_per_page)\n",
    "n_pages\n",
    "\n"
   ]
  },
  {
   "cell_type": "code",
   "execution_count": 14,
   "metadata": {},
   "outputs": [
    {
     "data": {
      "application/vnd.jupyter.widget-view+json": {
       "model_id": "10df22ea64ec4779b7c51e359d6de86d",
       "version_major": 2,
       "version_minor": 0
      },
      "text/plain": [
       "  0%|          | 0/105 [00:00<?, ?it/s]"
      ]
     },
     "metadata": {},
     "output_type": "display_data"
    },
    {
     "name": "stdout",
     "output_type": "stream",
     "text": [
      "Exceeded 1000 api calls. Stopping loop.\n"
     ]
    }
   ],
   "source": [
    "for i in tqdm_notebook( range(1,n_pages+1)):\n",
    "    \n",
    "    ## Read in results in progress file and check the length\n",
    "    with open(JSON_FILE, 'r') as f:\n",
    "        previous_results = json.load(f)\n",
    "    ## save number of results for to use as offset\n",
    "    n_results = len(previous_results)\n",
    "    \n",
    "    if (n_results + results_per_page) > 1000:\n",
    "        print('Exceeded 1000 api calls. Stopping loop.')\n",
    "        break\n",
    "    \n",
    "    ## use n_results as the OFFSET \n",
    "    results = yelp_api.search_query(location=LOCATION,\n",
    "                                    term=TERM, \n",
    "                                    offset=n_results)\n",
    "    \n",
    "    \n",
    "    \n",
    "    ## append new results and save to file\n",
    "    previous_results.extend(results['businesses'])\n",
    "    \n",
    "    # display(previous_results)\n",
    "    with open(JSON_FILE,'w') as f:\n",
    "        json.dump(previous_results,f)\n",
    "    \n",
    "    time.sleep(.2)\n",
    "\n"
   ]
  },
  {
   "cell_type": "markdown",
   "metadata": {},
   "source": [
    "# Final results"
   ]
  },
  {
   "cell_type": "code",
   "execution_count": 15,
   "metadata": {},
   "outputs": [
    {
     "data": {
      "text/html": [
       "<div>\n",
       "<style scoped>\n",
       "    .dataframe tbody tr th:only-of-type {\n",
       "        vertical-align: middle;\n",
       "    }\n",
       "\n",
       "    .dataframe tbody tr th {\n",
       "        vertical-align: top;\n",
       "    }\n",
       "\n",
       "    .dataframe thead th {\n",
       "        text-align: right;\n",
       "    }\n",
       "</style>\n",
       "<table border=\"1\" class=\"dataframe\">\n",
       "  <thead>\n",
       "    <tr style=\"text-align: right;\">\n",
       "      <th></th>\n",
       "      <th>id</th>\n",
       "      <th>alias</th>\n",
       "      <th>name</th>\n",
       "      <th>image_url</th>\n",
       "      <th>is_closed</th>\n",
       "      <th>url</th>\n",
       "      <th>review_count</th>\n",
       "      <th>categories</th>\n",
       "      <th>rating</th>\n",
       "      <th>coordinates</th>\n",
       "      <th>transactions</th>\n",
       "      <th>price</th>\n",
       "      <th>location</th>\n",
       "      <th>phone</th>\n",
       "      <th>display_phone</th>\n",
       "      <th>distance</th>\n",
       "    </tr>\n",
       "  </thead>\n",
       "  <tbody>\n",
       "    <tr>\n",
       "      <th>0</th>\n",
       "      <td>-FOAQv22SXtSBs7nptI3UA</td>\n",
       "      <td>serious-pie-downtown-seattle-2</td>\n",
       "      <td>Serious Pie Downtown</td>\n",
       "      <td>https://s3-media1.fl.yelpcdn.com/bphoto/Yge-Xa...</td>\n",
       "      <td>False</td>\n",
       "      <td>https://www.yelp.com/biz/serious-pie-downtown-...</td>\n",
       "      <td>4555</td>\n",
       "      <td>[{'alias': 'pizza', 'title': 'Pizza'}, {'alias...</td>\n",
       "      <td>4.0</td>\n",
       "      <td>{'latitude': 47.61304626911818, 'longitude': -...</td>\n",
       "      <td>[pickup, delivery]</td>\n",
       "      <td>$$</td>\n",
       "      <td>{'address1': '2001 4th Ave', 'address2': None,...</td>\n",
       "      <td>+12068387388</td>\n",
       "      <td>(206) 838-7388</td>\n",
       "      <td>1422.856174</td>\n",
       "    </tr>\n",
       "    <tr>\n",
       "      <th>1</th>\n",
       "      <td>IrohtoYjnAR_vc6w6CRCxA</td>\n",
       "      <td>moto-pizza-west-seattle-seattle</td>\n",
       "      <td>MOTO Pizza - West Seattle</td>\n",
       "      <td>https://s3-media2.fl.yelpcdn.com/bphoto/RA8N1B...</td>\n",
       "      <td>False</td>\n",
       "      <td>https://www.yelp.com/biz/moto-pizza-west-seatt...</td>\n",
       "      <td>180</td>\n",
       "      <td>[{'alias': 'pizza', 'title': 'Pizza'}, {'alias...</td>\n",
       "      <td>4.5</td>\n",
       "      <td>{'latitude': 47.56207, 'longitude': -122.38509}</td>\n",
       "      <td>[delivery]</td>\n",
       "      <td>$$</td>\n",
       "      <td>{'address1': '4526 42nd Ave SW', 'address2': '...</td>\n",
       "      <td>+12064208880</td>\n",
       "      <td>(206) 420-8880</td>\n",
       "      <td>7965.106751</td>\n",
       "    </tr>\n",
       "    <tr>\n",
       "      <th>2</th>\n",
       "      <td>ENxs0vvtkJYxQqaZ3sbEjw</td>\n",
       "      <td>my-friend-dereks-seattle</td>\n",
       "      <td>My Friend Derek's</td>\n",
       "      <td>https://s3-media1.fl.yelpcdn.com/bphoto/MVV6S3...</td>\n",
       "      <td>False</td>\n",
       "      <td>https://www.yelp.com/biz/my-friend-dereks-seat...</td>\n",
       "      <td>32</td>\n",
       "      <td>[{'alias': 'foodtrucks', 'title': 'Food Trucks...</td>\n",
       "      <td>5.0</td>\n",
       "      <td>{'latitude': 47.651515, 'longitude': -122.343613}</td>\n",
       "      <td>[]</td>\n",
       "      <td>NaN</td>\n",
       "      <td>{'address1': '3632 Woodland Park Ave N', 'addr...</td>\n",
       "      <td></td>\n",
       "      <td></td>\n",
       "      <td>2964.793378</td>\n",
       "    </tr>\n",
       "    <tr>\n",
       "      <th>3</th>\n",
       "      <td>1rkgyfwzXG7qSdVZdfRt7g</td>\n",
       "      <td>roccos-seattle</td>\n",
       "      <td>Rocco's</td>\n",
       "      <td>https://s3-media1.fl.yelpcdn.com/bphoto/7h9z8m...</td>\n",
       "      <td>False</td>\n",
       "      <td>https://www.yelp.com/biz/roccos-seattle?adjust...</td>\n",
       "      <td>1805</td>\n",
       "      <td>[{'alias': 'bars', 'title': 'Bars'}, {'alias':...</td>\n",
       "      <td>4.0</td>\n",
       "      <td>{'latitude': 47.6145745, 'longitude': -122.345...</td>\n",
       "      <td>[pickup, delivery]</td>\n",
       "      <td>$$</td>\n",
       "      <td>{'address1': '2312 2nd Ave', 'address2': '', '...</td>\n",
       "      <td>+12063974210</td>\n",
       "      <td>(206) 397-4210</td>\n",
       "      <td>1438.882536</td>\n",
       "    </tr>\n",
       "    <tr>\n",
       "      <th>4</th>\n",
       "      <td>JaK1jA7D3Z4_8g9DySLZ8A</td>\n",
       "      <td>west-of-chicago-pizza-company-seattle</td>\n",
       "      <td>West of Chicago Pizza Company</td>\n",
       "      <td>https://s3-media2.fl.yelpcdn.com/bphoto/hzCo4v...</td>\n",
       "      <td>False</td>\n",
       "      <td>https://www.yelp.com/biz/west-of-chicago-pizza...</td>\n",
       "      <td>193</td>\n",
       "      <td>[{'alias': 'pizza', 'title': 'Pizza'}]</td>\n",
       "      <td>4.5</td>\n",
       "      <td>{'latitude': 47.56123, 'longitude': -122.37985}</td>\n",
       "      <td>[delivery]</td>\n",
       "      <td>$$</td>\n",
       "      <td>{'address1': '3770 SW Alaska St', 'address2': ...</td>\n",
       "      <td>+12063393337</td>\n",
       "      <td>(206) 339-3337</td>\n",
       "      <td>7864.921259</td>\n",
       "    </tr>\n",
       "  </tbody>\n",
       "</table>\n",
       "</div>"
      ],
      "text/plain": [
       "                       id                                  alias  \\\n",
       "0  -FOAQv22SXtSBs7nptI3UA         serious-pie-downtown-seattle-2   \n",
       "1  IrohtoYjnAR_vc6w6CRCxA        moto-pizza-west-seattle-seattle   \n",
       "2  ENxs0vvtkJYxQqaZ3sbEjw               my-friend-dereks-seattle   \n",
       "3  1rkgyfwzXG7qSdVZdfRt7g                         roccos-seattle   \n",
       "4  JaK1jA7D3Z4_8g9DySLZ8A  west-of-chicago-pizza-company-seattle   \n",
       "\n",
       "                            name  \\\n",
       "0           Serious Pie Downtown   \n",
       "1      MOTO Pizza - West Seattle   \n",
       "2              My Friend Derek's   \n",
       "3                        Rocco's   \n",
       "4  West of Chicago Pizza Company   \n",
       "\n",
       "                                           image_url  is_closed  \\\n",
       "0  https://s3-media1.fl.yelpcdn.com/bphoto/Yge-Xa...      False   \n",
       "1  https://s3-media2.fl.yelpcdn.com/bphoto/RA8N1B...      False   \n",
       "2  https://s3-media1.fl.yelpcdn.com/bphoto/MVV6S3...      False   \n",
       "3  https://s3-media1.fl.yelpcdn.com/bphoto/7h9z8m...      False   \n",
       "4  https://s3-media2.fl.yelpcdn.com/bphoto/hzCo4v...      False   \n",
       "\n",
       "                                                 url  review_count  \\\n",
       "0  https://www.yelp.com/biz/serious-pie-downtown-...          4555   \n",
       "1  https://www.yelp.com/biz/moto-pizza-west-seatt...           180   \n",
       "2  https://www.yelp.com/biz/my-friend-dereks-seat...            32   \n",
       "3  https://www.yelp.com/biz/roccos-seattle?adjust...          1805   \n",
       "4  https://www.yelp.com/biz/west-of-chicago-pizza...           193   \n",
       "\n",
       "                                          categories  rating  \\\n",
       "0  [{'alias': 'pizza', 'title': 'Pizza'}, {'alias...     4.0   \n",
       "1  [{'alias': 'pizza', 'title': 'Pizza'}, {'alias...     4.5   \n",
       "2  [{'alias': 'foodtrucks', 'title': 'Food Trucks...     5.0   \n",
       "3  [{'alias': 'bars', 'title': 'Bars'}, {'alias':...     4.0   \n",
       "4             [{'alias': 'pizza', 'title': 'Pizza'}]     4.5   \n",
       "\n",
       "                                         coordinates        transactions  \\\n",
       "0  {'latitude': 47.61304626911818, 'longitude': -...  [pickup, delivery]   \n",
       "1    {'latitude': 47.56207, 'longitude': -122.38509}          [delivery]   \n",
       "2  {'latitude': 47.651515, 'longitude': -122.343613}                  []   \n",
       "3  {'latitude': 47.6145745, 'longitude': -122.345...  [pickup, delivery]   \n",
       "4    {'latitude': 47.56123, 'longitude': -122.37985}          [delivery]   \n",
       "\n",
       "  price                                           location         phone  \\\n",
       "0    $$  {'address1': '2001 4th Ave', 'address2': None,...  +12068387388   \n",
       "1    $$  {'address1': '4526 42nd Ave SW', 'address2': '...  +12064208880   \n",
       "2   NaN  {'address1': '3632 Woodland Park Ave N', 'addr...                 \n",
       "3    $$  {'address1': '2312 2nd Ave', 'address2': '', '...  +12063974210   \n",
       "4    $$  {'address1': '3770 SW Alaska St', 'address2': ...  +12063393337   \n",
       "\n",
       "    display_phone     distance  \n",
       "0  (206) 838-7388  1422.856174  \n",
       "1  (206) 420-8880  7965.106751  \n",
       "2                  2964.793378  \n",
       "3  (206) 397-4210  1438.882536  \n",
       "4  (206) 339-3337  7864.921259  "
      ]
     },
     "metadata": {},
     "output_type": "display_data"
    },
    {
     "data": {
      "text/html": [
       "<div>\n",
       "<style scoped>\n",
       "    .dataframe tbody tr th:only-of-type {\n",
       "        vertical-align: middle;\n",
       "    }\n",
       "\n",
       "    .dataframe tbody tr th {\n",
       "        vertical-align: top;\n",
       "    }\n",
       "\n",
       "    .dataframe thead th {\n",
       "        text-align: right;\n",
       "    }\n",
       "</style>\n",
       "<table border=\"1\" class=\"dataframe\">\n",
       "  <thead>\n",
       "    <tr style=\"text-align: right;\">\n",
       "      <th></th>\n",
       "      <th>id</th>\n",
       "      <th>alias</th>\n",
       "      <th>name</th>\n",
       "      <th>image_url</th>\n",
       "      <th>is_closed</th>\n",
       "      <th>url</th>\n",
       "      <th>review_count</th>\n",
       "      <th>categories</th>\n",
       "      <th>rating</th>\n",
       "      <th>coordinates</th>\n",
       "      <th>transactions</th>\n",
       "      <th>price</th>\n",
       "      <th>location</th>\n",
       "      <th>phone</th>\n",
       "      <th>display_phone</th>\n",
       "      <th>distance</th>\n",
       "    </tr>\n",
       "  </thead>\n",
       "  <tbody>\n",
       "    <tr>\n",
       "      <th>995</th>\n",
       "      <td>l6dwcgNyn-ROwguZd-46fA</td>\n",
       "      <td>chuan-bbq-seattle-7</td>\n",
       "      <td>Chuan BBQ</td>\n",
       "      <td>https://s3-media1.fl.yelpcdn.com/bphoto/UCSlZW...</td>\n",
       "      <td>False</td>\n",
       "      <td>https://www.yelp.com/biz/chuan-bbq-seattle-7?a...</td>\n",
       "      <td>160</td>\n",
       "      <td>[{'alias': 'bbq', 'title': 'Barbeque'}, {'alia...</td>\n",
       "      <td>3.5</td>\n",
       "      <td>{'latitude': 47.68527, 'longitude': -122.34412}</td>\n",
       "      <td>[delivery, pickup]</td>\n",
       "      <td>$$</td>\n",
       "      <td>{'address1': '7714 Aurora Ave N', 'address2': ...</td>\n",
       "      <td>+12064540389</td>\n",
       "      <td>(206) 454-0389</td>\n",
       "      <td>6688.648830</td>\n",
       "    </tr>\n",
       "    <tr>\n",
       "      <th>996</th>\n",
       "      <td>qwQskljAH0XEuPh1Bcs8rw</td>\n",
       "      <td>pizza-hut-normandy-park</td>\n",
       "      <td>Pizza Hut</td>\n",
       "      <td>https://s3-media1.fl.yelpcdn.com/bphoto/kAdxt1...</td>\n",
       "      <td>False</td>\n",
       "      <td>https://www.yelp.com/biz/pizza-hut-normandy-pa...</td>\n",
       "      <td>8</td>\n",
       "      <td>[{'alias': 'chicken_wings', 'title': 'Chicken ...</td>\n",
       "      <td>2.5</td>\n",
       "      <td>{'latitude': 47.44240504315486, 'longitude': -...</td>\n",
       "      <td>[delivery, pickup]</td>\n",
       "      <td>NaN</td>\n",
       "      <td>{'address1': '17833 1st Ave S', 'address2': 'S...</td>\n",
       "      <td>+12062444900</td>\n",
       "      <td>(206) 244-4900</td>\n",
       "      <td>20350.208770</td>\n",
       "    </tr>\n",
       "    <tr>\n",
       "      <th>997</th>\n",
       "      <td>XL6UtF0GljGKOIG0FLum3g</td>\n",
       "      <td>pcc-community-markets-redmond-redmond</td>\n",
       "      <td>PCC Community Markets - Redmond</td>\n",
       "      <td>https://s3-media2.fl.yelpcdn.com/bphoto/J9FA6k...</td>\n",
       "      <td>False</td>\n",
       "      <td>https://www.yelp.com/biz/pcc-community-markets...</td>\n",
       "      <td>139</td>\n",
       "      <td>[{'alias': 'grocery', 'title': 'Grocery'}, {'a...</td>\n",
       "      <td>4.5</td>\n",
       "      <td>{'latitude': 47.7016, 'longitude': -122.09339}</td>\n",
       "      <td>[]</td>\n",
       "      <td>$$</td>\n",
       "      <td>{'address1': '11435 Avondale Rd NE', 'address2...</td>\n",
       "      <td>+14252851400</td>\n",
       "      <td>(425) 285-1400</td>\n",
       "      <td>20002.231986</td>\n",
       "    </tr>\n",
       "    <tr>\n",
       "      <th>998</th>\n",
       "      <td>Kyr_35FK6pi9L9Ohp8FXPQ</td>\n",
       "      <td>pizza-hut-renton</td>\n",
       "      <td>Pizza Hut</td>\n",
       "      <td>https://s3-media4.fl.yelpcdn.com/bphoto/8oThqA...</td>\n",
       "      <td>False</td>\n",
       "      <td>https://www.yelp.com/biz/pizza-hut-renton?adju...</td>\n",
       "      <td>81</td>\n",
       "      <td>[{'alias': 'pizza', 'title': 'Pizza'}, {'alias...</td>\n",
       "      <td>2.0</td>\n",
       "      <td>{'latitude': 47.4988145, 'longitude': -122.181...</td>\n",
       "      <td>[delivery, pickup]</td>\n",
       "      <td>$</td>\n",
       "      <td>{'address1': '2705 Sunset Blvd NE', 'address2'...</td>\n",
       "      <td>+14252284800</td>\n",
       "      <td>(425) 228-4800</td>\n",
       "      <td>18222.418967</td>\n",
       "    </tr>\n",
       "    <tr>\n",
       "      <th>999</th>\n",
       "      <td>6p9QZkPYxf8APQ1inQZ_GQ</td>\n",
       "      <td>round-table-pizza-silverdale</td>\n",
       "      <td>Round Table Pizza</td>\n",
       "      <td>https://s3-media2.fl.yelpcdn.com/bphoto/pobAaV...</td>\n",
       "      <td>False</td>\n",
       "      <td>https://www.yelp.com/biz/round-table-pizza-sil...</td>\n",
       "      <td>91</td>\n",
       "      <td>[{'alias': 'pizza', 'title': 'Pizza'}]</td>\n",
       "      <td>3.0</td>\n",
       "      <td>{'latitude': 47.656651, 'longitude': -122.695006}</td>\n",
       "      <td>[delivery, pickup]</td>\n",
       "      <td>$$</td>\n",
       "      <td>{'address1': '3276 NW Plaza Rd', 'address2': '...</td>\n",
       "      <td>+13606984040</td>\n",
       "      <td>(360) 698-4040</td>\n",
       "      <td>27156.401932</td>\n",
       "    </tr>\n",
       "  </tbody>\n",
       "</table>\n",
       "</div>"
      ],
      "text/plain": [
       "                         id                                  alias  \\\n",
       "995  l6dwcgNyn-ROwguZd-46fA                    chuan-bbq-seattle-7   \n",
       "996  qwQskljAH0XEuPh1Bcs8rw                pizza-hut-normandy-park   \n",
       "997  XL6UtF0GljGKOIG0FLum3g  pcc-community-markets-redmond-redmond   \n",
       "998  Kyr_35FK6pi9L9Ohp8FXPQ                       pizza-hut-renton   \n",
       "999  6p9QZkPYxf8APQ1inQZ_GQ           round-table-pizza-silverdale   \n",
       "\n",
       "                                name  \\\n",
       "995                        Chuan BBQ   \n",
       "996                        Pizza Hut   \n",
       "997  PCC Community Markets - Redmond   \n",
       "998                        Pizza Hut   \n",
       "999                Round Table Pizza   \n",
       "\n",
       "                                             image_url  is_closed  \\\n",
       "995  https://s3-media1.fl.yelpcdn.com/bphoto/UCSlZW...      False   \n",
       "996  https://s3-media1.fl.yelpcdn.com/bphoto/kAdxt1...      False   \n",
       "997  https://s3-media2.fl.yelpcdn.com/bphoto/J9FA6k...      False   \n",
       "998  https://s3-media4.fl.yelpcdn.com/bphoto/8oThqA...      False   \n",
       "999  https://s3-media2.fl.yelpcdn.com/bphoto/pobAaV...      False   \n",
       "\n",
       "                                                   url  review_count  \\\n",
       "995  https://www.yelp.com/biz/chuan-bbq-seattle-7?a...           160   \n",
       "996  https://www.yelp.com/biz/pizza-hut-normandy-pa...             8   \n",
       "997  https://www.yelp.com/biz/pcc-community-markets...           139   \n",
       "998  https://www.yelp.com/biz/pizza-hut-renton?adju...            81   \n",
       "999  https://www.yelp.com/biz/round-table-pizza-sil...            91   \n",
       "\n",
       "                                            categories  rating  \\\n",
       "995  [{'alias': 'bbq', 'title': 'Barbeque'}, {'alia...     3.5   \n",
       "996  [{'alias': 'chicken_wings', 'title': 'Chicken ...     2.5   \n",
       "997  [{'alias': 'grocery', 'title': 'Grocery'}, {'a...     4.5   \n",
       "998  [{'alias': 'pizza', 'title': 'Pizza'}, {'alias...     2.0   \n",
       "999             [{'alias': 'pizza', 'title': 'Pizza'}]     3.0   \n",
       "\n",
       "                                           coordinates        transactions  \\\n",
       "995    {'latitude': 47.68527, 'longitude': -122.34412}  [delivery, pickup]   \n",
       "996  {'latitude': 47.44240504315486, 'longitude': -...  [delivery, pickup]   \n",
       "997     {'latitude': 47.7016, 'longitude': -122.09339}                  []   \n",
       "998  {'latitude': 47.4988145, 'longitude': -122.181...  [delivery, pickup]   \n",
       "999  {'latitude': 47.656651, 'longitude': -122.695006}  [delivery, pickup]   \n",
       "\n",
       "    price                                           location         phone  \\\n",
       "995    $$  {'address1': '7714 Aurora Ave N', 'address2': ...  +12064540389   \n",
       "996   NaN  {'address1': '17833 1st Ave S', 'address2': 'S...  +12062444900   \n",
       "997    $$  {'address1': '11435 Avondale Rd NE', 'address2...  +14252851400   \n",
       "998     $  {'address1': '2705 Sunset Blvd NE', 'address2'...  +14252284800   \n",
       "999    $$  {'address1': '3276 NW Plaza Rd', 'address2': '...  +13606984040   \n",
       "\n",
       "      display_phone      distance  \n",
       "995  (206) 454-0389   6688.648830  \n",
       "996  (206) 244-4900  20350.208770  \n",
       "997  (425) 285-1400  20002.231986  \n",
       "998  (425) 228-4800  18222.418967  \n",
       "999  (360) 698-4040  27156.401932  "
      ]
     },
     "metadata": {},
     "output_type": "display_data"
    }
   ],
   "source": [
    "# load final results\n",
    "final_df = pd.read_json(JSON_FILE)\n",
    "display(final_df.head(), final_df.tail())\n"
   ]
  },
  {
   "cell_type": "code",
   "execution_count": 16,
   "metadata": {},
   "outputs": [
    {
     "data": {
      "text/plain": [
       "0"
      ]
     },
     "execution_count": 16,
     "metadata": {},
     "output_type": "execute_result"
    }
   ],
   "source": [
    "# check for duplicate ID's \n",
    "final_df.duplicated(subset='id').sum()\n",
    "\n"
   ]
  },
  {
   "cell_type": "markdown",
   "metadata": {},
   "source": [
    "## Save the file"
   ]
  },
  {
   "cell_type": "code",
   "execution_count": 17,
   "metadata": {},
   "outputs": [],
   "source": [
    "# save the final results to a compressed csv\n",
    "final_df.to_csv('Data/final_results_WA_pizza.csv.gz', compression='gzip',index=False)\n",
    "\n"
   ]
  }
 ],
 "metadata": {
  "kernelspec": {
   "display_name": "dojo-env",
   "language": "python",
   "name": "python3"
  },
  "language_info": {
   "codemirror_mode": {
    "name": "ipython",
    "version": 3
   },
   "file_extension": ".py",
   "mimetype": "text/x-python",
   "name": "python",
   "nbconvert_exporter": "python",
   "pygments_lexer": "ipython3",
   "version": "3.9.15"
  },
  "orig_nbformat": 4
 },
 "nbformat": 4,
 "nbformat_minor": 2
}
